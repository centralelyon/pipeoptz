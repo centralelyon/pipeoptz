{
 "cells": [
  {
   "cell_type": "code",
   "execution_count": 1,
   "id": "d856df7a",
   "metadata": {},
   "outputs": [],
   "source": [
    "from PIL import Image\n",
    "import matplotlib.pyplot as plt\n",
    "\n",
    "import sys, os\n",
    "sys.path.append(os.path.abspath(\"../../\"))\n",
    "from pipeoptz import Pipeline, Node, NodeWhile"
   ]
  },
  {
   "cell_type": "code",
   "execution_count": null,
   "id": "520a13ff",
   "metadata": {},
   "outputs": [],
   "source": [
    "def add(x, y):\n",
    "    print(f\"add({x}, {y})\")\n",
    "    return x + y\n",
    "\n",
    "def cond_func(loop_var, y):\n",
    "    print(f\"{loop_var=}, {y=}, \")\n",
    "    return loop_var <= y"
   ]
  },
  {
   "cell_type": "code",
   "execution_count": null,
   "id": "a869113c",
   "metadata": {},
   "outputs": [
    {
     "ename": "NameError",
     "evalue": "name 'cond_func' is not defined",
     "output_type": "error",
     "traceback": [
      "\u001b[31m---------------------------------------------------------------------------\u001b[39m",
      "\u001b[31mNameError\u001b[39m                                 Traceback (most recent call last)",
      "\u001b[36mCell\u001b[39m\u001b[36m \u001b[39m\u001b[32mIn[3]\u001b[39m\u001b[32m, line 6\u001b[39m\n\u001b[32m      4\u001b[39m pipeline.add_node(Node(\u001b[33m\"\u001b[39m\u001b[33mA\u001b[39m\u001b[33m\"\u001b[39m, add), predecessors={\u001b[33m\"\u001b[39m\u001b[33mx\u001b[39m\u001b[33m\"\u001b[39m:\u001b[33m\"\u001b[39m\u001b[33mrun_params:x\u001b[39m\u001b[33m\"\u001b[39m,\u001b[33m\"\u001b[39m\u001b[33my\u001b[39m\u001b[33m\"\u001b[39m:\u001b[33m\"\u001b[39m\u001b[33mrun_params:y\u001b[39m\u001b[33m\"\u001b[39m})\n\u001b[32m      5\u001b[39m while_pipeline.add_node(Node(\u001b[33m\"\u001b[39m\u001b[33mB\u001b[39m\u001b[33m\"\u001b[39m, add, fixed_params={\u001b[33m\"\u001b[39m\u001b[33mx\u001b[39m\u001b[33m\"\u001b[39m:\u001b[32m1\u001b[39m}), predecessors={\u001b[33m\"\u001b[39m\u001b[33my\u001b[39m\u001b[33m\"\u001b[39m:\u001b[33m\"\u001b[39m\u001b[33mrun_params:loop_var\u001b[39m\u001b[33m\"\u001b[39m})\n\u001b[32m----> \u001b[39m\u001b[32m6\u001b[39m pipeline.add_node(NodeWhile(\u001b[33m\"\u001b[39m\u001b[33mWhile Test\u001b[39m\u001b[33m\"\u001b[39m, \u001b[43mcond_func\u001b[49m, while_pipeline, fixed_params={\u001b[33m\"\u001b[39m\u001b[33mmax_iterations\u001b[39m\u001b[33m\"\u001b[39m:\u001b[32m10\u001b[39m, \u001b[33m\"\u001b[39m\u001b[33my\u001b[39m\u001b[33m\"\u001b[39m:\u001b[32m5\u001b[39m}), predecessors={\u001b[33m\"\u001b[39m\u001b[33mloop_var\u001b[39m\u001b[33m\"\u001b[39m:\u001b[33m\"\u001b[39m\u001b[33mA\u001b[39m\u001b[33m\"\u001b[39m})\n",
      "\u001b[31mNameError\u001b[39m: name 'cond_func' is not defined"
     ]
    }
   ],
   "source": [
    "pipeline = Pipeline(\"For Loop Test\")\n",
    "while_pipeline = Pipeline(\"While Loop\")\n",
    "\n",
    "pipeline.add_node(Node(\"A\", add), predecessors={\"x\":\"run_params:x\",\"y\":\"run_params:y\"})\n",
    "while_pipeline.add_node(Node(\"B\", add, fixed_params={\"x\":1}), predecessors={\"y\":\"run_params:loop_var\"})\n",
    "pipeline.add_node(NodeWhile(\"While Test\", cond_func, while_pipeline, fixed_params={\"max_iterations\":10, \"y\":5}), predecessors={\"loop_var\":\"A\"})"
   ]
  },
  {
   "cell_type": "code",
   "execution_count": null,
   "id": "d51af1ef",
   "metadata": {},
   "outputs": [
    {
     "name": "stdout",
     "output_type": "stream",
     "text": [
      "Ordre topologique: ['A', 'While Test']\n"
     ]
    }
   ],
   "source": [
    "print(\"Ordre topologique:\", pipeline.static_order())"
   ]
  },
  {
   "cell_type": "code",
   "execution_count": null,
   "id": "cf2143e0",
   "metadata": {},
   "outputs": [
    {
     "name": "stdout",
     "output_type": "stream",
     "text": [
      "Executing node: A\n",
      "add(-3, 0)\n",
      "Executing node: While Test\n",
      "Executing node: While Test iteration 1\n",
      "Executing node: B\n",
      "add(1, -3)\n",
      "Executing node: While Test iteration 2\n",
      "Executing node: B\n",
      "add(1, -2)\n",
      "Executing node: While Test iteration 3\n",
      "Executing node: B\n",
      "add(1, -1)\n",
      "Executing node: While Test iteration 4\n",
      "Executing node: B\n",
      "add(1, 0)\n",
      "Executing node: While Test iteration 5\n",
      "Executing node: B\n",
      "add(1, 1)\n",
      "Executing node: While Test iteration 6\n",
      "Executing node: B\n",
      "add(1, 2)\n",
      "Executing node: While Test iteration 7\n",
      "Executing node: B\n",
      "add(1, 3)\n",
      "Executing node: While Test iteration 8\n",
      "Executing node: B\n",
      "add(1, 4)\n",
      "Résultats du pipeline: 5 \n",
      " ('While Test', {'A': -3, 'While Test': 5}, (0.001088857650756836, {'A': 0.00058746337890625, 'While Test': 0.0005013942718505859})) \n",
      "\n"
     ]
    }
   ],
   "source": [
    "outputs = pipeline.run({\"x\":-3, \"y\":0}, debug=True)\n",
    "print(\"Résultats du pipeline:\", outputs[1][outputs[0]], \"\\n\" , outputs, \"\\n\")"
   ]
  },
  {
   "cell_type": "code",
   "execution_count": null,
   "id": "ab865608",
   "metadata": {},
   "outputs": [
    {
     "name": "stdout",
     "output_type": "stream",
     "text": [
      "Fichier .json générés.\n"
     ]
    }
   ],
   "source": [
    "pipeline.to_json(\"pipeline_example_for.json\")\n",
    "print(\"Fichier .json générés.\")"
   ]
  },
  {
   "cell_type": "code",
   "execution_count": null,
   "id": "2d7a087c",
   "metadata": {},
   "outputs": [
    {
     "name": "stdout",
     "output_type": "stream",
     "text": [
      "\n",
      "Chargement du pipeline depuis JSON et exécution:\n",
      "add(5, 1)\n",
      "Résultats du pipeline chargé en JSON: ('While Test', {'A': 6, 'While Test': 6}, (9.679794311523438e-05, {'A': 8.225440979003906e-05, 'While Test': 1.4543533325195312e-05}))\n"
     ]
    }
   ],
   "source": [
    "print(\"\\nChargement du pipeline depuis JSON et exécution:\")\n",
    "loaded_pipeline = Pipeline.from_json(\"pipeline_example_for.json\")\n",
    "loaded_outputs = loaded_pipeline.run({\"x\":5, \"y\":1})\n",
    "print(\"Résultats du pipeline chargé en JSON:\", loaded_outputs)"
   ]
  },
  {
   "cell_type": "code",
   "execution_count": null,
   "id": "64293091",
   "metadata": {},
   "outputs": [
    {
     "name": "stdout",
     "output_type": "stream",
     "text": [
      "Fichier .dot et .png généré.\n"
     ]
    },
    {
     "data": {
      "text/plain": [
       "<matplotlib.image.AxesImage at 0x1af3cab74d0>"
      ]
     },
     "execution_count": 23,
     "metadata": {},
     "output_type": "execute_result"
    },
    {
     "data": {
      "image/png": "[encoded data removed]",
      "text/plain": [
       "<Figure size 640x480 with 1 Axes>"
      ]
     },
     "metadata": {},
     "output_type": "display_data"
    }
   ],
   "source": [
    "pipeline.to_dot(\"pipeline_example_for.dot\", generate_png=True)\n",
    "print(\"Fichier .dot et .png généré.\")\n",
    "plt.axis('off')\n",
    "plt.imshow(Image.open(\"pipeline_example_for.png\"))"
   ]
  }
 ],
 "metadata": {
  "kernelspec": {
   "display_name": "Python 3",
   "language": "python",
   "name": "python3"
  },
  "language_info": {
   "codemirror_mode": {
    "name": "ipython",
    "version": 3
   },
   "file_extension": ".py",
   "mimetype": "text/x-python",
   "name": "python",
   "nbconvert_exporter": "python",
   "pygments_lexer": "ipython3",
   "version": "3.13.5"
  }
 },
 "nbformat": 4,
 "nbformat_minor": 5
}
