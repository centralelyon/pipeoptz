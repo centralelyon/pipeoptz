{
 "cells": [
  {
   "cell_type": "code",
   "execution_count": 1,
   "id": "d856df7a",
   "metadata": {},
   "outputs": [],
   "source": [
    "from PIL import Image\n",
    "import matplotlib.pyplot as plt\n",
    "\n",
    "import sys, os\n",
    "sys.path.append(os.path.abspath(\"../../\"))\n",
    "from pipeoptz import Pipeline, Node, NodeWhile"
   ]
  },
  {
   "cell_type": "code",
   "execution_count": 2,
   "id": "520a13ff",
   "metadata": {},
   "outputs": [],
   "source": [
    "def add(x, y):\n",
    "    print(f\"add({x}, {y})\")\n",
    "    return x + y\n",
    "\n",
    "# Condition function for the while loop\n",
    "def cond_func(loop_var, y):\n",
    "    print(f\"{loop_var=}, {y=}, \")\n",
    "    return loop_var <= y"
   ]
  },
  {
   "cell_type": "code",
   "execution_count": 3,
   "id": "a869113c",
   "metadata": {},
   "outputs": [],
   "source": [
    "# Create a pipeline\n",