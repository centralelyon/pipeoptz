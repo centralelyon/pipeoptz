{
 "cells": [
  {
   "cell_type": "code",
   "execution_count": 1,
   "id": "d856df7a",
   "metadata": {},
   "outputs": [],
   "source": [
    "from PIL import Image\n",
    "import matplotlib.pyplot as plt\n",
    "\n",
    "import sys, os\n",
    "sys.path.append(os.path.abspath(\"../../\"))\n",
    "from pipeoptz import Pipeline, Node, NodeWhile"
   ]
  },
  {
   "cell_type": "code",
   "execution_count": 2,
   "id": "520a13ff",
   "metadata": {},
   "outputs": [],
   "source": [
    "def add(x, y):\n",
    "    print(f\"add({x}, {y})\")\n",
    "    return x + y\n",
    "\n",
    "# Condition function for the while loop\n",
    "def cond_func(loop_var, y):\n",
    "    print(f\"{loop_var=}, {y=}, \")\n",
    "    return loop_var <= y"
   ]
  },
  {
   "cell_type": "code",
   "execution_count": null,
   "id": "a869113c",
   "metadata": {},
   "outputs": [],
   "source": [
    "# Create a pipeline\n",
    "pipeline = Pipeline(\"For Loop Test\")\n",
    "# Create a pipeline to be executed in a for loop\n",
    "while_pipeline = Pipeline(\"While Loop\")\n",
    "\n",
    "# Add a node to the main pipeline\n",
    "pipeline.add_node(Node(\"A\", add), predecessors={\"x\":\"run_params:x\",\"y\":\"run_params:y\"})\n",
    "# Add a node to the for loop pipeline\n",
    "while_pipeline.add_node(Node(\"B\", add, fixed_params={\"x\":1}), predecessors={\"y\":\"run_params:loop_var\"})\n",
    "# Add a for loop node to the main pipeline\n",
    "pipeline.add_node(NodeWhile(\"While Test\", cond_func, while_pipeline, fixed_params={\"max_iterations\":10, \"y\":5}), predecessors={\"loop_var\":\"A\"})"
   ]
  },
  {
   "cell_type": "code",
   "execution_count": null,
   "id": "d51af1ef",
   "metadata": {},
   "outputs": [
    {
     "name": "stdout",
     "output_type": "stream",
     "text": [
      "Ordre topologique: ['A', 'While Test']\n"
     ]
    }
   ],
   "source": [
    "print(\"Topological order:\", pipeline.static_order())"
   ]
  },
  {
   "cell_type": "code",
   "execution_count": null,
   "id": "cf2143e0",
   "metadata": {},
   "outputs": [
    {
     "name": "stdout",
     "output_type": "stream",
     "text": [
      "Executing node: A\n",
      "add(-3, 0)\n",
      "Executing node: While Test\n",
      "loop_var=-3, y=5, \n",
      "Executing node: While Test iteration 1\n",
      "Executing node: B\n",
      "add(1, -3)\n",
      "loop_var=-2, y=5, \n",
      "Executing node: While Test iteration 2\n",
      "Executing node: B\n",
      "add(1, -2)\n",
      "loop_var=-1, y=5, \n",
      "Executing node: While Test iteration 3\n",
      "Executing node: B\n",
      "add(1, -1)\n",
      "loop_var=0, y=5, \n",
      "Executing node: While Test iteration 4\n",
      "Executing node: B\n",
      "add(1, 0)\n",
      "loop_var=1, y=5, \n",
      "Executing node: While Test iteration 5\n",
      "Executing node: B\n",
      "add(1, 1)\n",
      "loop_var=2, y=5, \n",
      "Executing node: While Test iteration 6\n",
      "Executing node: B\n",
      "add(1, 2)\n",
      "loop_var=3, y=5, \n",
      "Executing node: While Test iteration 7\n",
      "Executing node: B\n",
      "add(1, 3)\n",
      "loop_var=4, y=5, \n",
      "Executing node: While Test iteration 8\n",
      "Executing node: B\n",
      "add(1, 4)\n",
      "loop_var=5, y=5, \n",
      "Executing node: While Test iteration 9\n",
      "Executing node: B\n",
      "add(1, 5)\n",
      "loop_var=6, y=5, \n",
      "Résultats du pipeline: 6 \n",
      " ('While Test', {'A': -3, 'While Test': 6}, (0.0013298988342285156, {'A': 0.0004734992980957031, 'While Test': 0.0008563995361328125})) \n",
      "\n"
     ]
    }
   ],
   "source": [
    "# Run the pipeline with parameters\n",
    "outputs = pipeline.run({\"x\":-3, \"y\":0}, debug=True)\n",
    "print(\"Result:\", outputs[1][outputs[0]], \"\\n\" , outputs, \"\\n\")"
   ]
  },
  {
   "cell_type": "code",
   "execution_count": null,
   "id": "ab865608",
   "metadata": {},
   "outputs": [
    {
     "name": "stdout",
     "output_type": "stream",
     "text": [
      "Fichier .json générés.\n"
     ]
    }
   ],
   "source": [
    "pipeline.to_json(\"while.json\")\n",
    "print(\"Json file generated.\")"
   ]
  },
  {
   "cell_type": "code",
   "execution_count": null,
   "id": "2d7a087c",
   "metadata": {},
   "outputs": [
    {
     "name": "stdout",
     "output_type": "stream",
     "text": [
      "\n",
      "Chargement du pipeline depuis JSON et exécution:\n",
      "add(5, 1)\n",
      "loop_var=6, y=5, \n",
      "Résultats du pipeline chargé en JSON: ('While Test', {'A': 6, 'While Test': 6}, (0.000102996826171875, {'A': 6.651878356933594e-05, 'While Test': 3.647804260253906e-05}))\n"
     ]
    }
   ],
   "source": [
    "print(\"\\nLoading pipeline from JSON and executing:\")\n",
    "# Load the pipeline from a json file\n",
    "loaded_pipeline = Pipeline.from_json(\"while.json\")\n",
    "# Run the loaded pipeline\n",
    "loaded_outputs = loaded_pipeline.run({\"x\":5, \"y\":1})\n",
    "print(\"Pipeline results loaded from JSON:\", loaded_outputs)"
   ]
  },
  {
   "cell_type": "code",
   "execution_count": 8,
   "id": "64293091",
   "metadata": {},
   "outputs": [
    {
     "name": "stdout",
     "output_type": "stream",
     "text": [
      "Fichier .dot et .png généré.\n"
     ]
    },
    {
     "data": {
      "text/plain": [
       "<matplotlib.image.AxesImage at 0x1ff051b1be0>"
      ]
     },
     "execution_count": 8,
     "metadata": {},
     "output_type": "execute_result"
    },
    {
     "data": {
      "image/png": "[encoded data removed]",
      "text/plain": [
       "<Figure size 640x480 with 1 Axes>"
      ]
     },
     "metadata": {},
     "output_type": "display_data"
    }
   ],
   "source": [
    "pipeline.to_dot(\"while.dot\")\n",
    "pipeline.to_image(\"while.png\")\n",
    "print(\"Fichier .dot et .png généré.\")\n",
    "plt.axis('off')\n",
    "plt.imshow(Image.open(\"while.png\"))"
   ]
  }
 ],
 "metadata": {
  "kernelspec": {
   "display_name": "Python 3",
   "language": "python",
   "name": "python3"
  },
  "language_info": {
   "codemirror_mode": {
    "name": "ipython",
    "version": 3
   },
   "file_extension": ".py",
   "mimetype": "text/x-python",
   "name": "python",
   "nbconvert_exporter": "python",
   "pygments_lexer": "ipython3",
   "version": "3.13.5"
  }
 },
 "nbformat": 4,
 "nbformat_minor": 5
}
