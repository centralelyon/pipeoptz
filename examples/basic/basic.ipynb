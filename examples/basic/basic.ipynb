{
 "cells": [
  {
   "cell_type": "markdown",
   "id": "4f0e7f33",
   "metadata": {},
   "source": [
    "### Basic pipeline test by creating a very simple version"
   ]
  },
  {
   "cell_type": "code",
   "execution_count": 1,
   "id": "d856df7a",
   "metadata": {},
   "outputs": [],
   "source": [
    "from PIL import Image\n",
    "import matplotlib.pyplot as plt\n",
    "from pipeoptz import Pipeline, Node"
   ]
  },
  {
   "cell_type": "code",
   "execution_count": 2,
   "id": "520a13ff",
   "metadata": {},
   "outputs": [],
   "source": [
    "def add(x, y):\n",
    "    print(f\"add({x}, {y})\")\n",
    "    return x + y\n",
    "\n",
    "def multiply(a, b):\n",
    "    print(f\"multiply({a}, {b})\")\n",
    "    return a * b\n",
    "\n",
    "def subtract(x, y):\n",
    "    print(f\"subtract({x}, {y})\")\n",
    "    return x - y"
   ]
  },
  {
   "cell_type": "code",
   "execution_count": 3,
   "id": "a869113c",
   "metadata": {},
   "outputs": [],
   "source": [
    "pipeline = Pipeline(\"Example Pipeline\", \"This is an example pipeline.\")\n",
    "\n",
    "# Node creation\n",
    "node_a = Node(\"A\", add, fixed_params={\"x\": 5, \"y\": 3}) # A = 5 + 3 = 8\n",
    "node_b = Node(\"B\", multiply, fixed_params={\"b\": 10})   # B = A * 10 (A comes from node_a)\n",
    "node_c = Node(\"C\", subtract, fixed_params={\"y\": 2})    # C = B - 2 (B comes from node_b)\n",
    "node_d = Node(\"D\", add, fixed_params={\"x\": 1})         # D = A + 1 (A comes from node_a)\n",
    "node_e = Node(\"E\", multiply)                           # E = C * D\n",
    "\n",
    "# Add nodes to the pipeline with their dependencies\n",
    "pipeline.add_node(node_a)\n",
    "pipeline.add_node(node_b, predecessors={\"a\": \"A\"})\n",
    "pipeline.add_node(node_c, predecessors={\"x\": \"B\"})\n",
    "pipeline.add_node(node_d, predecessors={\"y\": \"A\"})\n",
    "pipeline.add_node(node_e, predecessors={\"a\": \"C\", \"b\": \"D\"})"
   ]
  },
  {
   "cell_type": "code",
   "execution_count": 4,
   "id": "d51af1ef",
   "metadata": {},
   "outputs": [
    {
     "name": "stdout",
     "output_type": "stream",
     "text": [
      "Topological order: ['A', 'B', 'D', 'C', 'E']\n"
     ]
    }
   ],
   "source": [
    "print(\"Topological order:\", pipeline.static_order())\n",
    "# Expected: ['A', 'B', 'D', 'C', 'E'] or ['A', 'D', 'B', 'C', 'E'] (depending on the exact implementation of successors)"
   ]
  },
  {
   "cell_type": "code",
   "execution_count": 5,
   "id": "cf2143e0",
   "metadata": {},
   "outputs": [
    {
     "name": "stdout",
     "output_type": "stream",
     "text": [
      "add(5, 3)\n",
      "multiply(8, 10)\n",
      "add(1, 8)\n",
      "subtract(80, 2)\n",
      "multiply(78, 9)\n",
      "Pipeline results: ('E', {'A': 8, 'B': 80, 'D': 9, 'C': 78, 'E': 702}, (0.0005080699920654297, {'A': 0.0003771781921386719, 'B': 4.3392181396484375e-05, 'D': 3.600120544433594e-05, 'C': 2.5272369384765625e-05, 'E': 2.6226043701171875e-05}))\n"
     ]
    }
   ],
   "source": [
    "outputs = pipeline.run()\n",
    "print(\"Pipeline results:\", outputs)\n",
    "# Expected: {'A': 8, 'B': 80, 'D': 9, 'C': 78, 'E': 702} (the order in the dict may vary)"
   ]
  },
  {
   "cell_type": "code",
   "execution_count": 6,
   "id": "ab865608",
   "metadata": {},
   "outputs": [
    {
     "name": "stdout",
     "output_type": "stream",
     "text": [
      "Generated .json file.\n"
     ]
    }
   ],
   "source": [
    "pipeline.to_json(\"basic.json\")\n",
    "print(\"Generated .json file.\")"
   ]
  },
  {
   "cell_type": "code",
   "execution_count": 7,
   "id": "2d7a087c",
   "metadata": {},
   "outputs": [
    {
     "name": "stdout",
     "output_type": "stream",
     "text": [
      "Loading pipeline from JSON and executing:\n",
      "add(5, 3)\n",
      "multiply(8, 10)\n",
      "add(1, 8)\n",
      "subtract(80, 2)\n",
      "multiply(78, 9)\n",
      "Pipeline results loaded from JSON: ('E', {'A': 8, 'B': 80, 'D': 9, 'C': 78, 'E': 702}, (0.00014543533325195312, {'A': 7.486343383789062e-05, 'B': 2.3603439331054688e-05, 'D': 1.5735626220703125e-05, 'C': 1.5497207641601562e-05, 'E': 1.5735626220703125e-05}))\n"
     ]
    }
   ],
   "source": [
    "print(\"Loading pipeline from JSON and executing:\")\n",
    "loaded_pipeline = Pipeline.from_json(\"basic.json\")\n",
    "loaded_outputs = loaded_pipeline.run()\n",
    "print(\"Pipeline results loaded from JSON:\", loaded_outputs)"
   ]
  },
  {
   "cell_type": "code",
   "execution_count": 8,
   "id": "64293091",
   "metadata": {},
   "outputs": [
    {
     "name": "stdout",
     "output_type": "stream",
     "text": [
      ".dot file.\n"
     ]
    },
    {
     "data": {
      "text/plain": [
       "<matplotlib.image.AxesImage at 0x1abe97ed7f0>"
      ]
     },
     "execution_count": 8,
     "metadata": {},
     "output_type": "execute_result"
    },
    {
     "data": {
      "image/png": "[encoded data removed]",
      "text/plain": [
       "<Figure size 640x480 with 1 Axes>"
      ]
     },
     "metadata": {},
     "output_type": "display_data"
    }
   ],
   "source": [
    "pipeline.to_dot(\"basic.dot\")\n",
    "print(\".dot file.\")\n",
    "pipeline.to_image(\"basic.png\")\n",
    "plt.imshow(Image.open(\"basic.png\"))"
   ]
  },
  {
   "cell_type": "code",
   "execution_count": 9,
   "id": "91c7cbb4",
   "metadata": {},
   "outputs": [
    {
     "name": "stdout",
     "output_type": "stream",
     "text": [
      "Test with a cycle:\n",
      "Expected error detected: Error preparing the pipeline: The graph contains a cycle, topological sort is impossible.\n"
     ]
    }
   ],
   "source": [
    "# Cycle test\n",
    "print(\"Test with a cycle:\")\n",
    "pipeline_cycle = Pipeline(\"Cycle Pipeline\")\n",
    "node_x = Node(\"X\", add, {\"x\":1})\n",
    "node_y = Node(\"Y\", add, {\"x\":1})\n",
    "pipeline_cycle.add_node(node_x, predecessors={\"y\": \"Y\"})\n",
    "pipeline_cycle.add_node(node_y, predecessors={\"y\": \"X\"})\n",
    "try:\n",
    "    pipeline_cycle.run()\n",
    "except ValueError as e:\n",
    "    print(f\"Expected error detected: {e}\")"
   ]
  },
  {
   "cell_type": "code",
   "execution_count": 10,
   "id": "49acc6fe",
   "metadata": {},
   "outputs": [],
   "source": [
    "def tupleOutput():\n",
    "    return 1, 2\n",
    "\n",
    "def dictOutput():\n",
    "    return {\"a\": 3, \"b\": 4}"
   ]
  },
  {
   "cell_type": "code",
   "execution_count": 11,
   "id": "75736c76",
   "metadata": {},
   "outputs": [],
   "source": [
    "pipe_mo = Pipeline(\"Multiple Output\")\n",
    "\n",
    "pipe_mo.add_node(Node(\"Tuple output\", tupleOutput))\n",
    "pipe_mo.add_node(Node(\"Dict output\", dictOutput))\n",
    "pipe_mo.add_node(Node(\"Add 1\", add), predecessors={\"x\": \"Tuple output:0\", \"y\": \"Dict output:a\"})\n",
    "pipe_mo.add_node(Node(\"Add 2\", add), predecessors={\"x\": \"Tuple output:1\", \"y\": \"Dict output:b\"})\n",
    "pipe_mo.add_node(Node(\"Mult\", multiply), predecessors={\"a\": \"Add 1\", \"b\": \"Add 2\"})"
   ]
  },
  {
   "cell_type": "code",
   "execution_count": 12,
   "id": "0247e7d9",
   "metadata": {},
   "outputs": [
    {
     "name": "stdout",
     "output_type": "stream",
     "text": [
      "add(1, 3)\n",
      "add(2, 4)\n",
      "multiply(4, 6)\n",
      "('Mult', {'Tuple output': (1, 2), 'Dict output': {'a': 3, 'b': 4}, 'Add 1': 4, 'Add 2': 6, 'Mult': 24}, (0.0006248950958251953, {'Tuple output': 1.430511474609375e-05, 'Dict output': 5.0067901611328125e-06, 'Add 1': 0.0005106925964355469, 'Add 2': 5.5789947509765625e-05, 'Mult': 3.910064697265625e-05}))\n",
      "Pipeline results: 24\n"
     ]
    }
   ],
   "source": [
    "outputs = pipe_mo.run()\n",
    "print(outputs)\n",
    "print(\"Pipeline results:\", outputs[1][outputs[0]])"
   ]
  }
 ],
 "metadata": {
  "kernelspec": {
   "display_name": "Python 3",
   "language": "python",
   "name": "python3"
  },
  "language_info": {
   "codemirror_mode": {
    "name": "ipython",
    "version": 3
   },
   "file_extension": ".py",
   "mimetype": "text/x-python",
   "name": "python",
   "nbconvert_exporter": "python",
   "pygments_lexer": "ipython3",
   "version": "3.13.5"
  }
 },
 "nbformat": 4,
 "nbformat_minor": 5
}
