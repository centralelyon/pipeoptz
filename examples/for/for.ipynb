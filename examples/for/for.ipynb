{
 "cells": [
  {
   "cell_type": "code",
   "execution_count": 1,
   "id": "d856df7a",
   "metadata": {},
   "outputs": [],
   "source": [
    "from PIL import Image\n",
    "import matplotlib.pyplot as plt\n",
    "from pipeoptz import Pipeline, Node, NodeFor"
   ]
  },
  {
   "cell_type": "code",
   "execution_count": 2,
   "id": "520a13ff",
   "metadata": {},
   "outputs": [],
   "source": [
    "def add(x, y):\n",
    "    print(f\"add({x}, {y})\")\n",
    "    return x + y"
   ]
  },
  {
   "cell_type": "code",
   "execution_count": 3,
   "id": "a869113c",
   "metadata": {},
   "outputs": [],
   "source": [
    "# Create a pipeline\n",
    "pipeline = Pipeline(\"For Loop Test\")\n",
    "# Create a pipeline to be executed in a for loop\n",
    "for_pipeline = Pipeline(\"For Loop\")\n",
    "\n",
    "# Add a node to the main pipeline\n",
    "pipeline.add_node(Node(\"A\", add), predecessors={\"x\":\"run_params:x\",\"y\":\"run_params:y\"})\n",
    "# Add a node to the for loop pipeline\n",
    "for_pipeline.add_node(Node(\"B\", add, fixed_params={\"x\":1}), predecessors={\"y\":\"run_params:loop_var\"})\n",
    "# Add a second node to the for loop pipeline\n",
    "for_pipeline.add_node(Node(\"C\", add), predecessors={\"x\": \"B\", \"y\":\"run_params:loop_var\"})\n",
    "# Add a for loop node to the main pipeline\n",
    "pipeline.add_node(NodeFor(\"For Test\", for_pipeline, {\"iterations\":4}), predecessors={\"loop_var\":\"A\"})\n",
    "# Add a node to the main pipeline\n",
    "pipeline.add_node(Node(\"D\", add), predecessors={\"x\":\"For Test\",\"y\":\"run_params:y\"})"
   ]
  },
  {
   "cell_type": "code",
   "execution_count": 4,
   "id": "d51af1ef",
   "metadata": {},
   "outputs": [
    {
     "name": "stdout",
     "output_type": "stream",
     "text": [
      "Topological order: ['A', 'For Test', 'D']\n"
     ]
    }
   ],
   "source": [
    "print(\"Topological order:\", pipeline.static_order())"
   ]
  },
  {
   "cell_type": "code",
   "execution_count": 5,
   "id": "cf2143e0",
   "metadata": {},
   "outputs": [
    {
     "name": "stdout",
     "output_type": "stream",
     "text": [
      "Executing node: A\n",
      "add(5, 1)\n",
      "Executing node: For Test\n",
      "Executing node: For Test iteration 1/4\n",
      "Executing node: B\n",
      "add(1, 6)\n",
      "Executing node: C\n",
      "add(7, 6)\n",
      "Executing node: For Test iteration 2/4\n",
      "Executing node: B\n",
      "add(1, 13)\n",
      "Executing node: C\n",
      "add(14, 13)\n",
      "Executing node: For Test iteration 3/4\n",
      "Executing node: B\n",
      "add(1, 27)\n",
      "Executing node: C\n",
      "add(28, 27)\n",
      "Executing node: For Test iteration 4/4\n",
      "Executing node: B\n",
      "add(1, 55)\n",
      "Executing node: C\n",
      "add(56, 55)\n",
      "Executing node: D\n",
      "add(111, 1)\n",
      "Pipeline results: 112 \n",
      " ('D', {'A': 6, 'For Test': 111, 'D': 112}, (0.0011472702026367188, {'A': 0.0005528926849365234, 'For Test': 0.000553131103515625, 'D': 4.124641418457031e-05})) \n",
      "\n"
     ]
    }
   ],
   "source": [
    "# Run the pipeline with parameters\n",
    "outputs = pipeline.run({\"x\":5, \"y\":1}, debug=True)\n",
    "print(\"Pipeline results:\", outputs[1][outputs[0]], \"\\n\" , outputs, \"\\n\")"
   ]
  },
  {
   "cell_type": "code",
   "execution_count": 6,
   "id": "ab865608",
   "metadata": {},
   "outputs": [
    {
     "name": "stdout",
     "output_type": "stream",
     "text": [
      "Generated .json .dot .png files.\n"
     ]
    },
    {
     "data": {
      "text/plain": [
       "<matplotlib.image.AxesImage at 0x280e9bed940>"
      ]
     },
     "execution_count": 6,
     "metadata": {},
     "output_type": "execute_result"
    },
    {
     "data": {
      "image/png": "[encoded data removed]",
      "text/plain": [
       "<Figure size 640x480 with 1 Axes>"
      ]
     },
     "metadata": {},
     "output_type": "display_data"
    }
   ],
   "source": [
    "pipeline.to_json(\"for.json\")\n",
    "pipeline.to_dot(\"for.dot\")\n",
    "pipeline.to_image(\"for.png\")\n",
    "print(\"Generated .json .dot .png files.\")\n",
    "plt.imshow(Image.open(\"for.png\"))"
   ]
  },
  {
   "cell_type": "code",
   "execution_count": 7,
   "id": "2d7a087c",
   "metadata": {},
   "outputs": [
    {
     "name": "stdout",
     "output_type": "stream",
     "text": [
      "\n",
      "Loading pipeline from JSON and executing:\n",
      "add(5, 1)\n",
      "add(1, 6)\n",
      "add(7, 6)\n",
      "add(1, 13)\n",
      "add(14, 13)\n",
      "add(1, 27)\n",
      "add(28, 27)\n",
      "add(1, 55)\n",
      "add(56, 55)\n",
      "add(111, 1)\n",
      "Pipeline results loaded from JSON: ('D', {'A': 6, 'For Test': 111, 'D': 112}, (0.00043845176696777344, {'A': 8.821487426757812e-05, 'For Test': 0.00030517578125, 'D': 4.506111145019531e-05}))\n"
     ]
    }
   ],
   "source": [
    "print(\"\\nLoading pipeline from JSON and executing:\")\n",
    "# Load the pipeline from a json file\n",
    "loaded_pipeline = Pipeline.from_json(\"for.json\")\n",
    "# Run the loaded pipeline\n",
    "loaded_outputs = loaded_pipeline.run({\"x\":5, \"y\":1})\n",
    "print(\"Pipeline results loaded from JSON:\", loaded_outputs)"
   ]
  }
 ],
 "metadata": {
  "kernelspec": {
   "display_name": "Python 3",
   "language": "python",
   "name": "python3"
  },
  "language_info": {
   "codemirror_mode": {
    "name": "ipython",
    "version": 3
   },
   "file_extension": ".py",
   "mimetype": "text/x-python",
   "name": "python",
   "nbconvert_exporter": "python",
   "pygments_lexer": "ipython3",
   "version": "3.13.5"
  }
 },
 "nbformat": 4,
 "nbformat_minor": 5
}
