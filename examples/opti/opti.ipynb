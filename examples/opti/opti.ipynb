{
 "cells": [
  {
   "cell_type": "markdown",
   "id": "a2759d8f",
   "metadata": {},
   "source": [
    "### Optimization test with a simple function\n",
    "Minimize f(x, y) = (x - 3)^2 + (y + 1)^2"
   ]
  },
  {
   "cell_type": "code",
   "execution_count": 1,
   "id": "a9f5829e",
   "metadata": {},
   "outputs": [],
   "source": [
    "import matplotlib.pyplot as plt\n",
    "from pipeoptz import Pipeline, Node, FloatParameter, PipelineOptimizer"
   ]
  },
  {
   "cell_type": "code",
   "execution_count": 2,
   "id": "6e1d4a2a",
   "metadata": {},
   "outputs": [],
   "source": [
    "def simple_function(x, y):\n",
    "    return (x - 3)**2 + (y + 1)**2"
   ]
  },
  {
   "cell_type": "code",
   "execution_count": 3,
   "id": "fdeab6f2",
   "metadata": {},
   "outputs": [],
   "source": [
    "pipe = Pipeline(\"SimplePipeline\")\n",
    "pipe.add_node(Node(\"Eval\", simple_function, fixed_params={\"x\":None, \"y\":None}))"
   ]
  },
  {
   "cell_type": "code",
   "execution_count": 4,
   "id": "6f6c348c",
   "metadata": {},
   "outputs": [],
   "source": [
    "def loss_func(result, _):\n",
    "    \"\"\"We want to find the minimum of the simple function, so we return its value.\"\"\"\n",
    "    return result"
   ]
  },
  {
   "cell_type": "code",
   "execution_count": 5,
   "id": "cee2b959",
   "metadata": {},
   "outputs": [],
   "source": [
    "optimizer = PipelineOptimizer(pipe, loss_function=loss_func)\n",
    "optimizer.add_param(FloatParameter(\"Eval\", \"x\", -10., 10.))\n",
    "optimizer.add_param(FloatParameter(\"Eval\", \"y\", -10., 10.))"
   ]
  },
  {
   "cell_type": "markdown",
   "id": "9aa3879a",
   "metadata": {},
   "source": [
    "### Grid Search"
   ]
  },
  {
   "cell_type": "code",
   "execution_count": 6,
   "id": "6b435706",
   "metadata": {},
   "outputs": [
    {
     "name": "stdout",
     "output_type": "stream",
     "text": [
      "Best parameters: {'Eval.x': 3.21029953337424, 'Eval.y': -0.5284544987197055}\n",
      "Wanted: (3, -1)\n",
      "Final loss: 0.26658105351510725\n"
     ]
    },
    {
     "data": {
      "text/plain": [
       "<matplotlib.lines.Line2D at 0x1595d4f6c10>"
      ]
     },
     "execution_count": 6,
     "metadata": {},
     "output_type": "execute_result"
    },
    {
     "data": {
      "image/png": "iVBORw0KGgoAAAANSUhEUgAAAigAAAGdCAYAAAA44ojeAAAAOnRFWHRTb2Z0d2FyZQBNYXRwbG90bGliIHZlcnNpb24zLjEwLjMsIGh0dHBzOi8vbWF0cGxvdGxpYi5vcmcvZiW1igAAAAlwSFlzAAAPYQAAD2EBqD+naQAAK7pJREFUeJzt3Qt0VNXd9/F/7gmBJAQkIZIAIgoIglyNUBVJCYgUKl5A2iLyghewAo+i6RIQaxulVlkgQutjQd4FqPQRVKr0Qa4vEu5SFRFBEaIYUDCJBBJymXftncyQgTkzCSZnz0y+n7VmzZyZzeRkM3Pml332/k+Iw+FwCAAAgB8JNb0DAAAAFyKgAAAAv0NAAQAAfoeAAgAA/A4BBQAA+B0CCgAA8DsEFAAA4HcIKAAAwO+ESwCqqKiQY8eOSZMmTSQkJMT07gAAgBpQtWF/+uknSUlJkdDQ0OALKCqcpKammt4NAABwCXJzc6VVq1bBF1DUyInzF4yLizO9OwAAoAYKCwv1AIPzczzoAorztI4KJwQUAAACS02mZzBJFgAA+B0CCgAA8DsEFAAA4HcIKAAAwO8QUAAAgN8hoAAAAL9DQAEAAH6HgAIAAAI/oGzevFmGDh2q6+irQiurVq1yPVZaWiqPP/64dOnSRWJjY3Wb3/3ud7o0fXWnTp2S0aNH6yJrCQkJMm7cODl9+nTd/EYAAKDhBZSioiLp2rWrzJ8//6LHzpw5I3v27JHp06fr67feeksOHDggv/rVr9zaqXCyb98+Wbt2raxevVqHngkTJvy83wQAAASNEIf6asFL/cchIbJy5UoZPny4ZZudO3dK79695ciRI5KWlib79++XTp066ft79uyp26xZs0ZuvfVW+eabb/SoS01q+cfHx0tBQQGl7gEACBC1+fyu9zkoaidUkFGncpScnBx92xlOlIyMDP21y9u3b/f4HCUlJfqXqn4BAADBq16/LLC4uFjPSRk1apQrKeXl5UmLFi3cdyI8XBITE/VjnmRnZ8usWbOkvu0+ckpWf/ydvt0kOkLG3tBGmsZG1vvPBQAANgUUNWH2rrvuEnUGacGCBT/rubKysmTq1KkXfV1zXTuQd1oWffi1a7tJVLiMv/GKOv85AADAQEBxhhM172T9+vVu55mSk5PlxIkTbu3Lysr0yh71mCdRUVH6Ut+uSYmTif3byaYvvpdPvy2U0yVl9f4zAQCADXNQnOHk4MGD8sEHH0izZs3cHk9PT5f8/HzZvXu36z4VYioqKqRPnz5iUtfUBHkss4N0T2uqt3/G/GEAAGDnCIqqV3Lo0CHX9uHDh2Xv3r16DknLli3ljjvu0EuM1fLh8vJy17wS9XhkZKR07NhRBg0aJOPHj5eFCxfqQDNp0iQZOXJkjVbw2CGk6pp4AgBAgASUXbt2Sf/+/V3bzrkhY8aMkaeeekreeecdvd2tWze3f7dhwwa5+eab9e2lS5fqUDJgwAC9emfEiBEyd+5c8Rdq1ZFSwQgKAACBEVBUyPB26qMmp0XUaMqyZcvEX1XlE6kgnwAAYATfxeNBaFVCYQAFAAAzCCgehFaNoDBJFgAAMwgoXuagEE8AADCDgOJtDgqTUAAAMIKA4kFI1UJj4gkAAGYQULzMQWGZMQAAZhBQvJziIZ8AAGAGAcXrMmMSCgAAJhBQPKDUPQAAZhFQPKDUPQAAZhFQPKDUPQAAZhFQPKDUPQAAZhFQvJW6J58AAGAEAcXrHBQSCgAAJhBQPKDUPQAAZhFQPKDUPQAAZhFQvJziYQgFAAAzCChelhkzggIAgBkEFC+IJwAAmEFA8TqCYnpPAABomAgoHjBJFgAAswgoXgq1cY4HAAAzCCgeMIICAIBZBBRPKHUPAIBRBBQPGEEBAMAsAooHlLoHAMAsAoqXERQHIygAABhBQPHAtYiHfAIAgBEEFC/LjJmDAgCAGQQUD5zfFUglWQAAzCCg... [truncated]",
      "text/plain": [
       "<Figure size 640x480 with 1 Axes>"
      ]
     },
     "metadata": {},
     "output_type": "display_data"
    }
   ],
   "source": [
    "best_params, loss_log = optimizer.optimize([{}], [0], method=\"GS\", max_combinations=250)\n",
    "print(\"Best parameters:\", best_params)\n",
    "print(\"Wanted:\", (3, -1))\n",
    "print(\"Final loss:\", loss_log[-1])\n",
    "# plot the loss log in log scale\n",
    "plt.plot(loss_log)\n",
    "plt.axhline(0, color='red', linestyle='--')"
   ]
  },
  {
   "cell_type": "markdown",
   "id": "c686321b",
   "metadata": {},
   "source": [
    "### ACO"
   ]
  },
  {
   "cell_type": "code",
   "execution_count": 7,
   "id": "02358ee3",
   "metadata": {},
   "outputs": [
    {
     "name": "stdout",
     "output_type": "stream",
     "text": [
      "Best parameters: {'Eval.x': np.float64(3.6586808637798196), 'Eval.y': np.float64(-0.16341396279982234)}\n",
      "Wanted: (3, -1)\n",
      "Final loss: 1.1337366779480262\n"
     ]
    },
    {
     "data": {
      "text/plain": [
       "<matplotlib.lines.Line2D at 0x1595d605bd0>"
      ]
     },
     "execution_count": 7,
     "metadata": {},
     "output_type": "execute_result"
    },
    {
     "data": {
      "image/png": "iVBORw0KGgoAAAANSUhEUgAAAiQAAAGdCAYAAAAi3mhQAAAAOnRFWHRTb2Z0d2FyZQBNYXRwbG90bGliIHZlcnNpb24zLjEwLjMsIGh0dHBzOi8vbWF0cGxvdGxpYi5vcmcvZiW1igAAAAlwSFlzAAAPYQAAD2EBqD+naQAAJJVJREFUeJzt3XtsXdWdL/Cf48TOg7xMyIuENECBAklGl1cRLYWBmxQkphRGKm2vJlQI1BbQAGLopCqlaCpFYnRnUKcZOn+MyIxUaIvUwC1/pKIUEvU2gVsqboZpSUkmvQTyoDxsJ07iOPG5Wjs+jh0SxzbnnH0en4+0ZZ/jFXtle/v467V/a62mQqFQCACAHI3J84sDACQCCQCQO4EEAMidQAIA5E4gAQByJ5AAALkTSACA3AkkAEDuxkaV6e3tjR07dsTkyZOjqakp7+4AAMOQ1lnds2dPzJ07N8aMGVP7gSSFkfnz5+fdDQBgFLZv3x7z5s2r/UCSRkaK/6EpU6bk3R0AYBg6OzuzAYXi7/GaDyTF2zQpjAgkAFBbRltuoagVAMidQAIA5E4gAQByJ5AAALkTSACA3AkkAEDuBBIAIHcCCQCQO4EEAMidQAIA5E4gAQByJ5AAALmrus31ymVXx4F4/H9vi2iKWHHdJ/LuDgDQiCMkXQcPxb+s/6944qU38+4KANCogaRtYkv2ds+BQ9FzuDfv7gAAow0kK1eujEsuuSQmT54cM2fOjBtvvDE2b948qM1VV10VTU1Ng46vfvWrkbcpE8ZFU9OR9z/YdzDv7gAAow0k69atizvvvDM2btwYzz33XPT09MTSpUujq6trULvbb789du7c2X888sgjkbfmMU0xbcK47P32fT15dwcAGG1R69q1awc9Xr16dTZS8sorr8SVV17Z//zEiRNj9uzZUW2mT2qJD/b1xPtdRkgAoG5qSDo6OrK3bW1tg57/4Q9/GDNmzIgLL7wwVqxYEfv27Tvh5+ju7o7Ozs5BR7nrSD4QSACgPqb99vb2xj333BNXXHFFFjyKvvSlL8WCBQti7ty5sWnTpvjGN76R1Zn89Kc/PWFdysMPPxyVMK0vkLyvhgQA6iOQpFqS1157LX71q18Nev6OO+7of3/RokUxZ86cuOaaa2Lr1q1x1llnfejzpBGU++67r/9xGiGZP39+lEPbJDUkAFA3geSuu+6KZ599NtavXx/z5s0bsu1ll12Wvd2yZctxA0lra2t2VKqGJFFDAgA1HEgKhULcfffdsWbNmnjxxRdj4cKFJ/03r776avY2jZTkTQ0JANRBIEm3aZ544ol45plnsrVIdu3alT0/derUmDBhQnZbJn38+uuvj1NPPTWrIbn33nuzGTiLFy+OvE1XQwIAtR9IHnvssf7FzwZ6/PHH49Zbb42Wlpb4xS9+EY8++mi2NkmqBbn55pvjW9/6VlSD4i0bIyQAUOO3bIaSAkhaPK1aFYta01okAED1aJi9bAbesjFCAgDVpSEDyZ7uQ3HwkA32AKBaNFQgSRvsjenbYK9dYSsAVI2GCiTZBnvF2zbqSACgajRUIEmmTzxS2GpxNACoHg0YSIojJAIJAFSLxgsklo8HgKrTcIGkuHy8olYAqB4NPEKiqBUAqkXDFrWqIQGA6tF4gUQNCQBUnYYLJGpIAKD6NO4IiUACAFWj4QJJW18g+UBRKwBUjYYtat1rgz0AqBoNF0imjLfBHgBUm4YLJGPGNPUvH6+OBACqQ8MFksTUXwCoLo0ZSIqLoylsBYCq0KCBxI6/AFBNGjKQHJ36K5AAQDVoyEBicTQAqC4NXkMikABANWjQQFIcIVHUCgDVoKErSCyMBgDVoSEDiXVIAKC6NPa0X4EEAKpCQwaStr5A0nXwcHQfOpx3dwCg4TVkIJk8fmw09+2w166wFQBy15CB5MgGe0em/qojAYD8NWQgSaapIwGAqtGwgaRYR2K1VgDIX8MGkumT+lZr... [truncated]",
      "text/plain": [
       "<Figure size 640x480 with 1 Axes>"
      ]
     },
     "metadata": {},
     "output_type": "display_data"
    }
   ],
   "source": [
    "best_params, loss_log = optimizer.optimize([{}], [0], method=\"ACO\", iterations=25, ants=10)\n",
    "print(\"Best parameters:\", best_params)\n",
    "print(\"Wanted:\", (3, -1))\n",
    "print(\"Final loss:\", loss_log[-1])\n",
    "# plot the loss log in log scale\n",
    "plt.plot(loss_log)\n",
    "plt.axhline(0, color='red', linestyle='--')"
   ]
  },
  {
   "cell_type": "markdown",
   "id": "97d6f338",
   "metadata": {},
   "source": [
    "### SA"
   ]
  },
  {
   "cell_type": "code",
   "execution_count": 8,
   "id": "659778f7",
   "metadata": {},
   "outputs": [
    {
     "name": "stdout",
     "output_type": "stream",
     "text": [
      "Best parameters: {'Eval.x': 2.968033109250685, 'Eval.y': -1.8774077719454052}\n",
      "Wanted: (3, -1)\n",
      "Final loss: 0.7708662803743789\n"
     ]
    },
    {
     "data": {
      "text/plain": [
       "<matplotlib.lines.Line2D at 0x1595f7c0a50>"
      ]
     },
     "execution_count": 8,
     "metadata": {},
     "output_type": "execute_result"
    },
    {
     "data": {
      "image/png": "iVBORw0KGgoAAAANSUhEUgAAAh8AAAGdCAYAAACyzRGfAAAAOnRFWHRTb2Z0d2FyZQBNYXRwbG90bGliIHZlcnNpb24zLjEwLjMsIGh0dHBzOi8vbWF0cGxvdGxpYi5vcmcvZiW1igAAAAlwSFlzAAAPYQAAD2EBqD+naQAAJktJREFUeJzt3Ql41NW9//HvZGaysCRsJQEJi5YWBFxYhACP+hfaVHlU1GulF1tErraKytKK0grWugS1VYsiVB9FfQpSuf+Cwq14uQGxlF3cEAW8UkjBBDcSFrNNfvc5h8wkgyRklvzOTM779TzTZGZOk5+HyeST79k8juM4AgAA4JIUt74RAACAQvgAAACuInwAAABXET4AAICrCB8AAMBVhA8AAOAqwgcAAHAV4QMAALjKJwmmpqZGDh48KG3bthWPx2P6cgAAQBOoPUuPHDkiXbt2lZSUlOQKHyp45Obmmr4MAAAQhaKiIunWrVtyhQ9V8QhefGZmpunLAQAATVBWVqaLB8Hf40kVPoJDLSp4ED4AAEguTZkywYRTAADgKsIHAABwFeEDAAC4ivABAABcRfgAAACuInwAAABXET4AAICrCB8AAMBVhA8AAOAqwgcAAHAV4QMAALiK8AEAAFyVcAfLNZfPj1TI/Df/V9L8KXLXj/qYvhwAAKxlTeWjrLxKnv/HXlm0aZ/pSwEAwGrWhA9/yon/1Ooax/SlAABgNWvCh8/r0R+rA4QPAABMsi58VNXUmL4UAACsZk34CA67OI5IgKEXAACMsa7yoVQFqH4AAGCKNeHD7637T2XSKQAA5lgTPnwpdZWPaiofAAAYY0348NYLH1WseAEAwBhrwofH4xF/cLktK14AADDGmvCh+IIbjVH5AADAGLvCR3CvD+Z8AABgjF3ho3beB6tdAAAwx67wUbvclsoHAADmWBU+/LWVD3Y4BQDAHEsrH4QPAABMsSx8BE+2ZdgFAABTrAofwcPlmHAKAIA5VoUPltoCAGCeZeGDTcYAADDNytUubK8OAIA5lg67UPkAAMAUq8KHPzjsQuUDAABjrNxencoHAADm2BU+mHAKAIBxVoUPf3CTMYZdAAAwxqrw4avdZIxhFwAAzLErfLC9OgAAxtkVPkL7fFD5AADAFEtPtaXyAQCAKXbucMqcDwAAjLFzqS3DLgAAGGNZ+GDCKQAAplkVPvy1S22pfAAAkCThIxAIyKxZs6RXr16SkZEhZ511ltx///3iOHW/zNXns2fPli5duug2o0ePlj179khiHSxH5QMAgKQIHw8//LDMnz9fnnrqKfnoo4/0/UceeUSefPLJUBt1f+7cubJgwQLZvHmztG7dWvLz86W8vFwS5mA5JpwCAGCML5LGGzZskCuvvFLGjBmj7/fs2VNefvll2bJlS6jq8cQTT8g999yj2ykvvfSSZGdny/Lly2XcuHGSEAfLsb06AADJUfkYPny4FBYWyu7du/X99957T9avXy+XXnqpvr93714pLi7WQy1BWVlZMnToUNm4ceMpv2ZFRYWUlZWF3ZoLB8sBAJBklY+7775bh4M+ffqI1+vVc0AefPBBGT9+vH5eBQ9FVTrqU/eDz52soKBA7rvvPnEDB8sBAJBklY9XXnlFFi1aJIsXL5bt27fLiy++KL///e/1x2jNnDlTSktLQ7eioiJpLhwsBwBAklU+7rzzTl39CM7dGDBggOzbt09XLyZMmCA5OTn68ZKSEr3aJUjdP++88075NdPS0vTNDezzAQBAklU+jh8/Lim11YMgNfxSUzuMoZbgqgCi5oUEqWEateolLy9PTKsbdqHyAQBAUlQ+Lr/8cj3Ho3v37tKvXz9555135LHHHpMbb7xRP+/xeGTq1KnywAMPSO/evXUYUfuCdO3aVcaOHSum1Q27UPkAACApwofaz0OFiVtvvVUOHTqkQ8XPf/5zvalY0IwZM+TYsWNy8803y+HDh2XkyJGyatUq... [truncated]",
      "text/plain": [
       "<Figure size 640x480 with 1 Axes>"
      ]
     },
     "metadata": {},
     "output_type": "display_data"
    }
   ],
   "source": [
    "best_params, loss_log = optimizer.optimize([{}], [0], method=\"SA\", iterations=100)\n",
    "print(\"Best parameters:\", best_params)\n",
    "print(\"Wanted:\", (3, -1))\n",
    "print(\"Final loss:\", loss_log[-1])\n",
    "# plot the loss log in log scale\n",
    "plt.plot(loss_log)\n",
    "plt.axhline(0, color='red', linestyle='--')"
   ]
  },
  {
   "cell_type": "markdown",
   "id": "7c0613a1",
   "metadata": {},
   "source": [
    "### PSO"
   ]
  },
  {
   "cell_type": "code",
   "execution_count": 9,
   "id": "e1b9777c",
   "metadata": {},
   "outputs": [
    {
     "name": "stdout",
     "output_type": "stream",
     "text": [
      "Best parameters: {'Eval.x': 2.917197090270708, 'Eval.y': -0.7854927339509707}\n",
      "Wanted: (3, -1)\n",
      "Final loss: 0.052869689047466285\n"
     ]
    },
    {
     "data": {
      "text/plain": [
       "<matplotlib.lines.Line2D at 0x1595f832350>"
      ]
     },
     "execution_count": 9,
     "metadata": {},
     "output_type": "execute_result"
    },
    {
     "data": {
      "image/png": "iVBORw0KGgoAAAANSUhEUgAAAiMAAAGdCAYAAADAAnMpAAAAOnRFWHRTb2Z0d2FyZQBNYXRwbG90bGliIHZlcnNpb24zLjEwLjMsIGh0dHBzOi8vbWF0cGxvdGxpYi5vcmcvZiW1igAAAAlwSFlzAAAPYQAAD2EBqD+naQAAJ0pJREFUeJzt3Qt0VOX57/EnmZkkICRcIoRLuCgsEZGLXBP8Cx6pVDkovbgoxxakapcVFaQtFVvhqH8bVz2KraJoPUhbpag9AhYtlnJTBEEEVKhSEWoiJNyUhAQIueyz3peZIdFMZu/h3bMzk+9nrW0yk3eS7WYy88vz3lIsy7IEAADAI6le/WAAAACFMAIAADxFGAEAAJ4ijAAAAE8RRgAAgKcIIwAAwFOEEQAA4CnCCAAA8JRfEkBtba0cOHBAWrduLSkpKV6fDgAAsEGtq3r8+HHp3LmzpKamJnYYUUEkNzfX69MAAAAxKCoqkq5duyZ2GFEVkdD/TGZmptenAwAAbCgrK9PFhND7eEKHkVDXjAoihBEAABJLtCEWDGAFAACeIowAAABPEUYAAICnCCMAAMBThBEAAOApwggAAPAUYQQAAHiKMAIAADxFGAEAAJ4ijAAAAE8RRgAAgKcIIwAAwFMJsVGeW/7vhn3yxVcnjHyvVul+uSm/h7RvlW7k+wEA0Fw06zDy+ocHZFvhMWPfL82XKnde1dvY9wMAoDlo1mHke4O7St6F7c/5+2z87KhsLzwmxyurjZwXAADNSbMOIzcO727k+/x25Sc6jFTV1Br5fgAANCcMYDXAn5qiP9bUWl6fCgAACYcwYoDfd+YyVtUQRgAAcIowYoAvXBmhmwYAAKcIIwYEfGfCSDWVEQAAHCOMGOBLPXMZqxkzAgCAY4QRk5URumkAAHCMMGJwzAjdNAAAOEcYMSBANw0AADEjjJisjBBGAABwjDBigD88m4YxIwAAOEUYMcBPNw0AADEjjBhAZQQAgNgRRgxgbxoAAGJHGDGAvWkAAIgdYcQAKiMAAMSOMGIwjFSxAisAAI4RRgwOYKUyAgCAc4QRk1N7GTMCAIBjhBGjK7DSTQMAgFOEEQMCwdk0VEYAAHCOMGIAe9MAABA7wogBAVZgBQAgZoQRA6iMAAAQO8KIyTEjhBEAABwjjBisjKh1RiyLQAIAgBOEEQMCwXVGFKojAAA4QxgxwBccwKqwCisAAM4QRgzuTaNUMaMGAABHCCOGwwiVEQAAnCGMGBzAqlSxCisAAI4QRgxISUkJV0eojAAA4AxhxBB/cBArY0YAAHCGMGKIPzi9l8oIAADOEEYMV0aqa6mMAADgBGHEkNCYERY9AwDAxTBSUFAgQ4cOldatW0uHDh1kwoQJsnv37kYfs2jRIj3As+6RkZEhydpNU81sGgAA3Asj69evl2nTpsm7774rq1atkqqqKrn66quloqKi0cdlZmZKcXFx+Pj8888l2bBzLwAAsfE7abxy5cpvVD1UheT999+XK664IuLjVDUkJydHklkgNGaE2TQAAMRvzEhpaan+2K5du0bblZeXS/fu3SU3N1euv/562bVrlyQbKiMAAMQ5jNTW1sqMGTNk5MiR0q9fv4jtLrroIlm4cKEsX75cXnjhBf24/Px8+eKLLyI+prKyUsrKyuodTV3Ax5gRAABc76apS40d2blzp2zYsKHRdnl5efoIUUHk4osvlmeeeUYefPDBiANl77//fknMygjdNAAAuF4ZueOOO2TFihWydu1a6dq1q6PHBgIBGTRokOzZsydim9mzZ+suoNBRVFQkTZ2fyggAAO5XRizLkjvvvFOWLl0q69atk549ezr+gTU1NfLRRx/JtddeG7FNenq6PhIJ64wAABCHMKK6ZhYvXqzHf6i1RkpKSvT9WVlZ0qJFC/355MmTpUuXLrqrRXnggQdkxIgR0qtXLzl27Jg88sgjemrvLbfcIsnkbBihmwYAANfCyNNP... [truncated]",
      "text/plain": [
       "<Figure size 640x480 with 1 Axes>"
      ]
     },
     "metadata": {},
     "output_type": "display_data"
    }
   ],
   "source": [
    "best_params, loss_log = optimizer.optimize([{}], [0], method=\"PSO\", iterations=100)\n",
    "print(\"Best parameters:\", best_params)\n",
    "print(\"Wanted:\", (3, -1))\n",
    "print(\"Final loss:\", loss_log[-1])\n",
    "# plot the loss log in log scale\n",
    "plt.plot(loss_log)\n",
    "plt.axhline(0, color='red', linestyle='--')"
   ]
  },
  {
   "cell_type": "markdown",
   "id": "80c8b655",
   "metadata": {},
   "source": [
    "### GA"
   ]
  },
  {
   "cell_type": "code",
   "execution_count": 10,
   "id": "b11e9b6b",
   "metadata": {},
   "outputs": [
    {
     "name": "stdout",
     "output_type": "stream",
     "text": [
      "Best parameters: {'Eval.x': 3.004406857218937, 'Eval.y': -0.6617948090036094}\n",
      "Wanted: (3, -1)\n",
      "Final loss: 0.11440217160745313\n"
     ]
    },
    {
     "data": {
      "text/plain": [
       "<matplotlib.lines.Line2D at 0x15960888690>"
      ]
     },
     "execution_count": 10,
     "metadata": {},
     "output_type": "execute_result"
    },
    {
     "data": {
      "image/png": "iVBORw0KGgoAAAANSUhEUgAAAhYAAAGdCAYAAABO2DpVAAAAOnRFWHRTb2Z0d2FyZQBNYXRwbG90bGliIHZlcnNpb24zLjEwLjMsIGh0dHBzOi8vbWF0cGxvdGxpYi5vcmcvZiW1igAAAAlwSFlzAAAPYQAAD2EBqD+naQAAIP1JREFUeJzt3X1wXeV9J/DflawXvwpsBxtjGwghEKA4AwbqYZM44IRS1oU03WZnmcWb/NEWSBZK2gZmNiHMTteedJptWiihSTbM7DY1IR3DlB2SsOCXvBmwCeWtceLETZzaxhCCJMuWbEl35xwh2bKlq3vlK91zrj6fmTO+V34sPX58dfX18/I7hWKxWAwAgCpoqMYnAQBICBYAQNUIFgBA1QgWAEDVCBYAQNUIFgBA1QgWAEDVCBYAQNVMi0nW398fe/bsidmzZ0ehUJjsLw8AjENST7OzszMWLVoUDQ0N2QkWSahYsmTJZH9ZAKAKdu/eHYsXL85OsEhmKgY7NmfOnMn+8gDAOHR0dKQTA4M/xzMTLAaXP5JQIVgAQL6MtY3B5k0AoGoECwCgagQLAKBqBAsAoGoECwCgagQLAKBqBAsAoGoECwCgagQLAKBqBAsAoGoECwCgagQLAKBqJv0mZBPl89/eEZ09vVX5XNObGuM/rzgzTm+bXpXPBwBTRd0Ei/XP7o79nT1V+3zdR/rjM6svqNrnA4CpoG6CxX+58qzoqsKMxQu/bI/v/OT12N/ZXZV+AcBUUjfB4paV76jK5/nG9l+mwaKjuzrLKgAwldi8eZy26U3prx2HjtS6KwCQO4LFcea0DkziCBYAUDnB4jhzBmcsugULAKiUYDHqUkhvFIvFWncHAHJFsBhlxuJwX3965BQAKJ9gcZyZzY3R2FBIH1sOAYDKCBbHKRQKQxs4223gBICKCBalNnAKFgBQEcGi1AZOSyEAUBHBYgRzWgeChaUQAKiMYDGCOdMHi2Qp6w0AlRAsRqCsNwCMj2AxAkshADA+gsUIlPUGgPERLEoeN7XHAgAqIViMQIEsABgfwWIE6lgAwPgIFiWWQsxYAEBlBIsSp0IcNwWAyggWJZZCOnt6o7+/WOvuAEBuCBYlKm8WiwPhAgAoj2AxgpZpjdHaNDA0lkMAoHyCxVj7LJwMAYCyCRajcDIEAConWIx5IzJ7LACgXILFGNU37bEAgPIJFqNwIzIAqJxgMeZSiGABAOUSLMY4FWLzJgCUT7AY80ZkNm8CQLkEizGqb1oKAYDyCRajsBQCAJUTLMZcChEsAKBcgsUoVN4EgMoJFmPdK0TlTQAom2AxxlLIoSN9cbi3v9bdAYBcECxGMeutkt4J+ywAoDyCxSgaGwox2/1CAKAigkU5+ywUyQKAsggWJTgZAgCVESxKaFN9EwAqIliUoPomAFRGsChjKcSpEAAoj2BRTllvRbIAoCyCRQmWQgCgMoJFOZs3LYUAQFkEi3L2WJixAICyCBZl3YhMsACACQ8W69ati0KhELfffnvUo7YZKm8CwKQEi2effTYeeOCBuPjii6Ne2bwJAJMQLA4cOBA33nhjfOlLX4pTTz016tWcYypvFovFWncHAOozWNx6661x3XXXxapVq8Zs29PTEx0dHcOuvNWx6O0vxqEjfbXuDgBk3sB/ySuwfv36eO6559KlkHKsXbs27rnnnsij6U2NMa2hkAaLZDlkRnPFwwUAU0pFMxa7d++O2267Lf7+7/8+Wltby/ozd911V7S3tw9dyefIi2RjquqbAFC+iv4Lvn379ti/f39ccsklQx/r6+uLLVu2xL333psuezQ2Ng77My0tLemV51oWv+o6rEgWAFQ7WFx99dXx4osvDvvYRz/60Tj//PPjU5/61Amhoh7MaR0YovaDggUAVDVYzJ49Oy666KJhH5s5c2bMmzfvhI/XC3c4BYDyqbxZZrBQywIAxnbSxxw2bdoUU6Ost82bADAWMxZjGDoV... [truncated]",
      "text/plain": [
       "<Figure size 640x480 with 1 Axes>"
      ]
     },
     "metadata": {},
     "output_type": "display_data"
    }
   ],
   "source": [
    "best_params, loss_log = optimizer.optimize([{}], [0], method=\"GA\", generations=50)\n",
    "print(\"Best parameters:\", best_params)\n",
    "print(\"Wanted:\", (3, -1))\n",
    "print(\"Final loss:\", loss_log[-1])\n",
    "# plot the loss log in log scale\n",
    "plt.plot(loss_log)\n",
    "plt.axhline(0, color='red', linestyle='--')"
   ]
  },
  {
   "cell_type": "markdown",
   "id": "d5225739",
   "metadata": {},
   "source": [
    "### BO"
   ]
  },
  {
   "cell_type": "code",
   "execution_count": 11,
   "id": "cde2601c",
   "metadata": {},
   "outputs": [
    {
     "name": "stdout",
     "output_type": "stream",
     "text": [
      "Best parameters: {'Eval.x': 3.3143137594628698, 'Eval.y': -0.7236623078742443}\n",
      "Wanted: (3, -1)\n",
      "Final loss: 0.17515565947707168\n"
     ]
    },
    {
     "data": {
      "text/plain": [
       "<matplotlib.lines.Line2D at 0x159608bf610>"
      ]
     },
     "execution_count": 11,
     "metadata": {},
     "output_type": "execute_result"
    },
    {
     "data": {
      "image/png": "iVBORw0KGgoAAAANSUhEUgAAAh8AAAGdCAYAAACyzRGfAAAAOnRFWHRTb2Z0d2FyZQBNYXRwbG90bGliIHZlcnNpb24zLjEwLjMsIGh0dHBzOi8vbWF0cGxvdGxpYi5vcmcvZiW1igAAAAlwSFlzAAAPYQAAD2EBqD+naQAAKqhJREFUeJzt3QtwlOXd9/F/NtndhEACSUgCJUFIVUAEFRAi1gOmZqhSGagtHRwp5a1Ti8jhtVZaD7VVo3YUqnJQh8E6lQflaVFxHrE+sWKtCQpWX9SKCgipIQlBk5BANqd957o2u8mG7JJNdu97d+/vZ+aePV1sLrLZzS/X4f4nuN1utwAAABjEZtQXAgAAUAgfAADAUIQPAABgKMIHAAAwFOEDAAAYivABAAAMRfgAAACGInwAAABDJUmU6ejokMrKShkyZIgkJCSY3R0AANAH6pylJ06ckJEjR4rNZout8KGCR15entndAAAA/VBRUSGjRo2KrfChRjy8nU9LSzO7OwAAoA8aGhr04IH393hMhQ/vVIsKHoQPAABiS1+WTLDgFAAAGIrwAQAADEX4AAAAhiJ8AAAAQxE+AACAoQgfAADAUIQPAABgKMIHAAAwFOEDAAAYivABAAAMRfgAAACGInwAAABDRV1huUiprDslz+0+LG3tbln9vfFmdwcAAMsKeeTjq6++khtuuEEyMzMlJSVFzj//fNmzZ4/vcbfbLXfffbeMGDFCP15UVCSff/65mK3J1Sbr/n5A/lx+WPcRAADEQPj45ptvZObMmWK32+XVV1+VTz75RB555BEZNmyYr83DDz8sjz32mGzcuFF2794tqampUlxcLM3NzWKm/MxBkmhLkKaWdqlucJnaFwAArCykaZeHHnpI8vLyZPPmzb77xowZ47uuRhTWrl0rd955p1x33XX6vmeffVZycnLkxRdflAULFohZnEmJkjcsRb48flIOHmuU3PRk0/oCAICVhTTy8fLLL8vUqVPl+uuvl+zsbLnwwgvl6aef9j1+6NAhqaqq0lMtXunp6TJ9+nQpKyvr9TldLpc0NDT4HZFSMHywvjxwrDFiXwMAAIQxfBw8eFA2bNggZ599trz22mty8803y6233ip/+tOf9OMqeChqpKM7ddv7WE8lJSU6oHgPNbISKWOHp+rLA8eaIvY1AABAGMNHR0eHXHTRRfLAAw/oUY+bbrpJfvazn+n1Hf21evVqqa+v9x0VFRUSKWMZ+QAAILbCh9rBMmHCBL/7xo8fL0eOHNHXc3Nz9WV1dbVfG3Xb+1hPTqdT0tLS/I5IT7scZOQDAIDYCB9qp8v+/fv97vvss89k9OjRvsWnKmSUlpb6HldrONSul8LCQjGbd9qlsv6UnGppN7s7AABYUkjhY+XKlVJeXq6nXb744gvZsmWLPPXUU7J06VL9eEJCgqxYsULuu+8+vTh13759cuONN8rIkSNl7ty5YrbMVIekp9hFnebjUC2jHwAARP1W22nTpsn27dv1Oo3f/e53eqRDba1duHChr83tt98uTU1Nej1IXV2dXHrppbJz505JTjZ/a6sKR2r0419H6uRgbaNMGBm5KR4AANC7BHeUne5TTdOoXS9q8Wkk1n/ctu1D+e+9/5GVRefI8qKzw/78AABYUUMIv78tV1jOu+5DjXwAAADjWS98ZLHjBQAAM1kufHw7u3Pk41gjBeYAADCB5cJHfkYqBeYAADCR5cKHI8km+RmD9HXOdAoAgPEsFz6UsVldUy8AAMBY1gwfFJgDAMA0lgwf3hovTLsAAGA8S4YPb3VbttsCAGA8S4aPgs5pl6/qKDAHAIDRLBk+MjoLzCkUmAMAwFiWDB/eAnMKp1kHAMBYlgwffotOaxj5AADASJYNH4x8AABgDsuGD7bbAgBgDguHD8/Ix6FjTRSYAwDAQJYNHxSYAwDAHJYNHxSYAwDAHJYNHwoF5gAAMJ6lw0dBtnfRKdttAQAw... [truncated]",
      "text/plain": [
       "<Figure size 640x480 with 1 Axes>"
      ]
     },
     "metadata": {},
     "output_type": "display_data"
    }
   ],
   "source": [
    "best_params, loss_log = optimizer.optimize([{}], [0], method=\"BO\", iterations=10)\n",
    "print(\"Best parameters:\", best_params)\n",
    "print(\"Wanted:\", (3, -1))\n",
    "print(\"Final loss:\", min(loss_log))\n",
    "# plot the loss log in log scale\n",
    "plt.plot(loss_log)\n",
    "plt.axhline(0, color='red', linestyle='--')"
   ]
  }
 ],
 "metadata": {
  "kernelspec": {
   "display_name": "Python 3",
   "language": "python",
   "name": "python3"
  },
  "language_info": {
   "codemirror_mode": {
    "name": "ipython",
    "version": 3
   },
   "file_extension": ".py",
   "mimetype": "text/x-python",
   "name": "python",
   "nbconvert_exporter": "python",
   "pygments_lexer": "ipython3",
   "version": "3.13.5"
  }
 },
 "nbformat": 4,
 "nbformat_minor": 5
}