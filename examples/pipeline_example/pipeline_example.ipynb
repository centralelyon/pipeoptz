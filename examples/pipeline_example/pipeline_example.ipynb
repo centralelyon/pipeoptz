{
 "cells": [
  {
   "cell_type": "markdown",
   "id": "4f0e7f33",
   "metadata": {},
   "source": [
    "### Test de base de la pipeline en créant une version très simple"
   ]
  },
  {
   "cell_type": "code",
   "execution_count": 1,
   "id": "d856df7a",
   "metadata": {},
   "outputs": [],
   "source": [
    "from PIL import Image\n",
    "import matplotlib.pyplot as plt\n",
    "\n",
    "import sys, os\n",
    "sys.path.append(os.path.abspath(\"../../\"))\n",
    "from pipeoptz import Pipeline, Node"
   ]
  },
  {
   "cell_type": "code",
   "execution_count": 2,
   "id": "520a13ff",
   "metadata": {},
   "outputs": [],
   "source": [
    "def add(x, y):\n",
    "    print(f\"add({x}, {y})\")\n",
    "    return x + y\n",
    "\n",
    "def multiply(a, b):\n",
    "    print(f\"multiply({a}, {b})\")\n",
    "    return a * b\n",
    "\n",
    "def subtract(x, y):\n",
    "    print(f\"subtract({x}, {y})\")\n",
    "    return x - y"
   ]
  },
  {
   "cell_type": "code",
   "execution_count": 3,
   "id": "a869113c",
   "metadata": {},
   "outputs": [],
   "source": [
    "pipeline = Pipeline(\"Example Pipeline\", \"This is an example pipeline.\")\n",
    "\n",
    "# Création des noeuds\n",
    "node_a = Node(\"A\", add, fixed_params={\"x\": 5, \"y\": 3}) # A = 5 + 3 = 8\n",
    "node_b = Node(\"B\", multiply, fixed_params={\"b\": 10})   # B = A * 10 (A vient de node_a)\n",
    "node_c = Node(\"C\", subtract, fixed_params={\"y\": 2})    # C = B - 2 (B vient de node_b)\n",
    "node_d = Node(\"D\", add, fixed_params={\"x\": 1})         # D = A + 1 (A vient de node_a)\n",
    "node_e = Node(\"E\", multiply)                           # E = C * D\n",
    "\n",
    "# Ajout des noeuds au pipeline avec leurs dépendances\n",
    "pipeline.add_node(node_a)\n",
    "pipeline.add_node(node_b, predecessors={\"a\": \"A\"})\n",
    "pipeline.add_node(node_c, predecessors={\"x\": \"B\"})\n",
    "pipeline.add_node(node_d, predecessors={\"y\": \"A\"})\n",
    "pipeline.add_node(node_e, predecessors={\"a\": \"C\", \"b\": \"D\"})"
   ]
  },
  {
   "cell_type": "code",
   "execution_count": 4,
   "id": "d51af1ef",
   "metadata": {},
   "outputs": [
    {
     "name": "stdout",
     "output_type": "stream",
     "text": [
      "Ordre topologique: ['A', 'B', 'D', 'C', 'E']\n"
     ]
    }
   ],
   "source": [
    "print(\"Ordre topologique:\", pipeline.static_order())\n",
    "# Attendu: ['A', 'B', 'D', 'C', 'E'] ou ['A', 'D', 'B', 'C', 'E'] (selon l'implémentation exacte des successeurs)"
   ]
  },
  {
   "cell_type": "code",
   "execution_count": 5,
   "id": "cf2143e0",
   "metadata": {},
   "outputs": [
    {
     "name": "stdout",
     "output_type": "stream",
     "text": [
      "add(5, 3)\n",
      "multiply(8, 10)\n",
      "add(1, 8)\n",
      "subtract(80, 2)\n",
      "multiply(78, 9)\n",
      "Résultats du pipeline: ('E', {'A': 8, 'B': 80, 'D': 9, 'C': 78, 'E': 702}, (0.0005934238433837891, {'A': 0.00045800209045410156, 'B': 4.744529724121094e-05, 'D': 4.696846008300781e-05, 'C': 2.0503997802734375e-05, 'E': 2.0503997802734375e-05})) \n",
      "\n"
     ]
    }
   ],
   "source": [
    "outputs = pipeline.run()\n",
    "print(\"Résultats du pipeline:\", outputs, \"\\n\")\n",
    "# Attendu: {'A': 8, 'B': 80, 'D': 9, 'C': 78, 'E': 702} (l'ordre dans le dict peut varier)"
   ]
  },
  {
   "cell_type": "code",
   "execution_count": 6,
   "id": "64293091",
   "metadata": {},
   "outputs": [
    {
     "name": "stdout",
     "output_type": "stream",
     "text": [
      "Fichier .dot et .png généré.\n"
     ]
    }
   ],
   "source": [
    "pipeline.to_dot(\"pipeline_example.dot\", generate_png=True)\n",
    "print(\"Fichier .dot et .png généré.\")"
   ]
  },
  {
   "cell_type": "code",
   "execution_count": 7,
   "id": "ab865608",
   "metadata": {},
   "outputs": [
    {
     "name": "stdout",
     "output_type": "stream",
     "text": [
      "Fichier .json générés.\n"
     ]
    }
   ],
   "source": [
    "pipeline.to_json(\"pipeline_example.json\")\n",
    "print(\"Fichier .json générés.\")"
   ]
  },
  {
   "cell_type": "code",
   "execution_count": 8,
   "id": "2d7a087c",
   "metadata": {},
   "outputs": [
    {
     "name": "stdout",
     "output_type": "stream",
     "text": [
      "\n",
      "Chargement du pipeline depuis JSON et exécution:\n",
      "add(5, 3)\n",
      "multiply(8, 10)\n",
      "add(1, 8)\n",
      "subtract(80, 2)\n",
      "multiply(78, 9)\n",
      "Résultats du pipeline chargé en JSON: ('E', {'A': 8, 'B': 80, 'D': 9, 'C': 78, 'E': 702}, (0.00019073486328125, {'A': 7.843971252441406e-05, 'B': 3.504753112792969e-05, 'D': 2.6702880859375e-05, 'C': 2.2649765014648438e-05, 'E': 2.7894973754882812e-05}))\n"
     ]
    }
   ],
   "source": [
    "print(\"\\nChargement du pipeline depuis JSON et exécution:\")\n",
    "loaded_pipeline = Pipeline.from_json(\"pipeline_example.json\")\n",
    "loaded_outputs = loaded_pipeline.run()\n",
    "print(\"Résultats du pipeline chargé en JSON:\", loaded_outputs)"
   ]
  },
  {
   "cell_type": "code",
   "execution_count": 9,
   "id": "91c7cbb4",
   "metadata": {},
   "outputs": [
    {
     "name": "stdout",
     "output_type": "stream",
     "text": [
      "\n",
      "Test avec un cycle:\n",
      "Erreur attendue détectée: Erreur de préparation de la pipeline: Le graphe contient un cycle, le tri topologique est impossible.\n"
     ]
    },
    {
     "data": {
      "text/plain": [
       "<matplotlib.image.AxesImage at 0x26a3d893cb0>"
      ]
     },
     "execution_count": 9,
     "metadata": {},
     "output_type": "execute_result"
    },
    {
     "data": {
      "image/png": "[encoded data removed]",
      "text/plain": [
       "<Figure size 640x480 with 1 Axes>"
      ]
     },
     "metadata": {},
     "output_type": "display_data"
    }
   ],
   "source": [
    "# Test de cycle\n",
    "print(\"\\nTest avec un cycle:\")\n",
    "pipeline_cycle = Pipeline(\"Cycle Pipeline\")\n",
    "node_x = Node(\"X\", add, {\"x\":1})\n",
    "node_y = Node(\"Y\", add, {\"x\":1})\n",
    "pipeline_cycle.add_node(node_x, predecessors={\"y\": \"Y\"})\n",
    "pipeline_cycle.add_node(node_y, predecessors={\"y\": \"X\"})\n",
    "try:\n",
    "    pipeline_cycle.run()\n",
    "except ValueError as e:\n",
    "    print(f\"Erreur attendue détectée: {e}\")\n",
    "plt.imshow(Image.open(\"pipeline_example.png\"))"
   ]
  }
 ],
 "metadata": {
  "kernelspec": {
   "display_name": "Python 3",
   "language": "python",
   "name": "python3"
  },
  "language_info": {
   "codemirror_mode": {
    "name": "ipython",
    "version": 3
   },
   "file_extension": ".py",
   "mimetype": "text/x-python",
   "name": "python",
   "nbconvert_exporter": "python",
   "pygments_lexer": "ipython3",
   "version": "3.13.5"
  }
 },
 "nbformat": 4,
 "nbformat_minor": 5
}
