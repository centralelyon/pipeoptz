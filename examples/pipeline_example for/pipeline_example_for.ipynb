{
 "cells": [
  {
   "cell_type": "code",
   "execution_count": 1,
   "id": "d856df7a",
   "metadata": {},
   "outputs": [],
   "source": [
    "from PIL import Image\n",
    "import matplotlib.pyplot as plt\n",
    "\n",
    "import sys, os\n",
    "sys.path.append(os.path.abspath(\"../../\"))\n",
    "from pipeoptz import Pipeline, Node, NodeFor"
   ]
  },
  {
   "cell_type": "code",
   "execution_count": 2,
   "id": "520a13ff",
   "metadata": {},
   "outputs": [],
   "source": [
    "def add(x, y):\n",
    "    print(f\"add({x}, {y})\")\n",
    "    return x + y"
   ]
  },
  {
   "cell_type": "code",
   "execution_count": null,
   "id": "a869113c",
   "metadata": {},
   "outputs": [],
   "source": [
    "pipeline = Pipeline(\"For Loop Test\")\n",
    "for_pipeline = Pipeline(\"For Loop\")\n",
    "\n",
    "pipeline.add_node(Node(\"A\", add), predecessors={\"x\":\"run_params:x\",\"y\":\"run_params:y\"})\n",
    "for_pipeline.add_node(Node(\"B\", add, fixed_params={\"x\":1}), predecessors={\"y\":\"run_params:loop_var\"})\n",
    "for_pipeline.add_node(Node(\"C\", add), predecessors={\"x\": \"B\", \"y\":\"run_params:loop_var\"})\n",
    "pipeline.add_node(NodeFor(\"For Test\", for_pipeline, {\"iterations\":4}), predecessors={\"loop_var\":\"A\"})\n",
    "pipeline.add_node(Node(\"A\", add), predecessors={\"x\":\"For Test\",\"y\":\"run_params:y\"})"
   ]
  },
  {
   "cell_type": "code",
   "execution_count": 4,
   "id": "d51af1ef",
   "metadata": {},
   "outputs": [
    {
     "name": "stdout",
     "output_type": "stream",
     "text": [
      "Ordre topologique: ['A', 'For Test']\n"
     ]
    }
   ],
   "source": [
    "print(\"Ordre topologique:\", pipeline.static_order())"
   ]
  },
  {
   "cell_type": "code",
   "execution_count": 5,
   "id": "cf2143e0",
   "metadata": {},
   "outputs": [
    {
     "name": "stdout",
     "output_type": "stream",
     "text": [
      "Executing node: A\n",
      "add(5, 1)\n",
      "Executing node: For Test\n",
      "Executing node: For Test iteration 1/4\n",
      "Executing node: B\n",
      "add(1, 6)\n",
      "Executing node: C\n",
      "add(7, 6)\n",
      "Executing node: For Test iteration 2/4\n",
      "Executing node: B\n",
      "add(1, 13)\n",
      "Executing node: C\n",
      "add(14, 13)\n",
      "Executing node: For Test iteration 3/4\n",
      "Executing node: B\n",
      "add(1, 27)\n",
      "Executing node: C\n",
      "add(28, 27)\n",
      "Executing node: For Test iteration 4/4\n",
      "Executing node: B\n",
      "add(1, 55)\n",
      "Executing node: C\n",
      "add(56, 55)\n",
      "Résultats du pipeline: 111 \n",
      " ('For Test', {'A': 6, 'For Test': 111}, (0.0010128021240234375, {'A': 0.0005371570587158203, 'For Test': 0.0004756450653076172})) \n",
      "\n"
     ]
    }
   ],
   "source": [
    "outputs = pipeline.run({\"x\":5, \"y\":1}, debug=True)\n",
    "print(\"Résultats du pipeline:\", outputs[1][outputs[0]], \"\\n\" , outputs, \"\\n\")"
   ]
  },
  {
   "cell_type": "code",
   "execution_count": 6,
   "id": "ab865608",
   "metadata": {},
   "outputs": [
    {
     "name": "stdout",
     "output_type": "stream",
     "text": [
      "Fichier .json générés.\n"
     ]
    }
   ],
   "source": [
    "pipeline.to_json(\"pipeline_example_for.json\")\n",
    "print(\"Fichier .json générés.\")"
   ]
  },
  {
   "cell_type": "code",
   "execution_count": 7,
   "id": "2d7a087c",
   "metadata": {},
   "outputs": [
    {
     "name": "stdout",
     "output_type": "stream",
     "text": [
      "\n",
      "Chargement du pipeline depuis JSON et exécution:\n",
      "add(5, 1)\n",
      "add(1, 6)\n",
      "add(7, 6)\n",
      "add(1, 13)\n",
      "add(14, 13)\n",
      "add(1, 27)\n",
      "add(28, 27)\n",
      "add(1, 55)\n",
      "add(56, 55)\n",
      "Résultats du pipeline chargé en JSON: ('For Test', {'A': 6, 'For Test': 111}, (0.0003638267517089844, {'A': 8.320808410644531e-05, 'For Test': 0.00028061866760253906}))\n"
     ]
    }
   ],
   "source": [
    "print(\"\\nChargement du pipeline depuis JSON et exécution:\")\n",
    "loaded_pipeline = Pipeline.from_json(\"pipeline_example_for.json\")\n",
    "loaded_outputs = loaded_pipeline.run({\"x\":5, \"y\":1})\n",
    "print(\"Résultats du pipeline chargé en JSON:\", loaded_outputs)"
   ]
  },
  {
   "cell_type": "code",
   "execution_count": 8,
   "id": "64293091",
   "metadata": {},
   "outputs": [
    {
     "name": "stdout",
     "output_type": "stream",
     "text": [
      "plop\n",
      "Fichier .dot et .png généré.\n"
     ]
    },
    {
     "data": {
      "text/plain": [
       "<matplotlib.image.AxesImage at 0x15de2ac4980>"
      ]
     },
     "execution_count": 8,
     "metadata": {},
     "output_type": "execute_result"
    },
    {
     "data": {
      "image/png": "[encoded data removed]",
      "text/plain": [
       "<Figure size 640x480 with 1 Axes>"
      ]
     },
     "metadata": {},
     "output_type": "display_data"
    }
   ],
   "source": [
    "pipeline.to_dot(\"pipeline_example_for.dot\", generate_png=True)\n",
    "print(\"Fichier .dot et .png généré.\")\n",
    "plt.imshow(Image.open(\"pipeline_example_for.png\"))"
   ]
  }
 ],
 "metadata": {
  "kernelspec": {
   "display_name": "Python 3",
   "language": "python",
   "name": "python3"
  },
  "language_info": {
   "codemirror_mode": {
    "name": "ipython",
    "version": 3
   },
   "file_extension": ".py",
   "mimetype": "text/x-python",
   "name": "python",
   "nbconvert_exporter": "python",
   "pygments_lexer": "ipython3",
   "version": "3.13.5"
  }
 },
 "nbformat": 4,
 "nbformat_minor": 5
}
